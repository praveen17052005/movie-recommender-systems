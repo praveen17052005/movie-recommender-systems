{
  "nbformat": 4,
  "nbformat_minor": 0,
  "metadata": {
    "colab": {
      "provenance": []
    },
    "kernelspec": {
      "name": "python3",
      "display_name": "Python 3"
    },
    "language_info": {
      "name": "python"
    }
  },
  "cells": [
    {
      "cell_type": "code",
      "source": [
        "import pandas as pd\n",
        "import numpy as np\n",
        "from sklearn.feature_extraction.text import CountVectorizer\n",
        "from sklearn.metrics.pairwise import cosine_similarity\n",
        "import ast\n",
        "\n",
        "# Load data with correct relative paths\n",
        "movies = pd.read_csv(\"tmdb_5000_movies.csv\")\n",
        "credits = pd.read_csv(\"tmdb_5000_credits.csv\")\n",
        "\n",
        "# Merge datasets\n",
        "movies = movies.merge(credits, on='title')\n",
        "\n",
        "# Select relevant columns\n",
        "movies = movies[['movie_id', 'title', 'overview', 'genres', 'keywords', 'cast', 'crew']]\n",
        "\n",
        "# Parse JSON-like fields using ast.literal_eval\n",
        "def convert(obj):\n",
        "    L = []\n",
        "    for i in ast.literal_eval(obj):\n",
        "        L.append(i['name'])\n",
        "    return L\n",
        "\n",
        "def convert3(obj):\n",
        "    L = []\n",
        "    counter = 0\n",
        "    for i in ast.literal_eval(obj):\n",
        "        if counter != 3:\n",
        "            L.append(i['name'])\n",
        "            counter += 1\n",
        "        else:\n",
        "            break\n",
        "    return L\n",
        "\n",
        "def fetch_director(obj):\n",
        "    for i in ast.literal_eval(obj):\n",
        "        if i['job'] == 'Director':\n",
        "            return [i['name']]\n",
        "    return []\n",
        "\n",
        "movies.dropna(inplace=True)\n",
        "\n",
        "movies['genres'] = movies['genres'].apply(convert)\n",
        "movies['keywords'] = movies['keywords'].apply(convert)\n",
        "movies['cast'] = movies['cast'].apply(convert3)\n",
        "movies['crew'] = movies['crew'].apply(fetch_director)\n",
        "\n",
        "movies['overview'] = movies['overview'].apply(lambda x: x.split())\n",
        "\n",
        "# Combine all features\n",
        "movies['tags'] = movies['overview'] + movies['genres'] + movies['keywords'] + movies['cast'] + movies['crew']\n",
        "\n",
        "# Create a new DataFrame with useful columns\n",
        "new_df = movies[['movie_id', 'title', 'tags']]\n",
        "new_df['tags'] = new_df['tags'].apply(lambda x: \" \".join(x).lower())\n",
        "\n",
        "# Vectorization\n",
        "cv = CountVectorizer(max_features=5000, stop_words='english')\n",
        "vectors = cv.fit_transform(new_df['tags']).toarray()\n",
        "\n",
        "# Similarity calculation\n",
        "similarity = cosine_similarity(vectors)\n",
        "\n",
        "# Recommendation function\n",
        "def recommend(movie):\n",
        "    movie = movie.lower()\n",
        "    if movie not in new_df['title'].str.lower().values:\n",
        "        return f\"Movie '{movie}' not found in the dataset.\"\n",
        "    index = new_df[new_df['title'].str.lower() == movie].index[0]\n",
        "    distances = similarity[index]\n",
        "    movies_list = sorted(list(enumerate(distances)), reverse=True, key=lambda x: x[1])[1:11]\n",
        "    recommendations = [new_df.iloc[i[0]].title for i in movies_list]\n",
        "    return recommendations\n",
        "\n",
        "# Example usage\n",
        "if __name__ == \"__main__\":\n",
        "    movie_name = input(\"Enter a movie name: \")\n",
        "    results = recommend(movie_name)\n",
        "    if isinstance(results, list):\n",
        "        print(\"\\nTop 10 recommendations:\")\n",
        "        for i, title in enumerate(results, 1):\n",
        "            print(f\"{i}. {title}\")\n",
        "    else:\n",
        "        print(results)\n"
      ],
      "metadata": {
        "colab": {
          "base_uri": "https://localhost:8080/"
        },
        "id": "8ty9H83G8QQu",
        "outputId": "e996ad15-55b2-43ef-8227-b6855dbf6160"
      },
      "execution_count": null,
      "outputs": [
        {
          "output_type": "stream",
          "name": "stderr",
          "text": [
            "/tmp/ipython-input-4009347469.py:55: SettingWithCopyWarning: \n",
            "A value is trying to be set on a copy of a slice from a DataFrame.\n",
            "Try using .loc[row_indexer,col_indexer] = value instead\n",
            "\n",
            "See the caveats in the documentation: https://pandas.pydata.org/pandas-docs/stable/user_guide/indexing.html#returning-a-view-versus-a-copy\n",
            "  new_df['tags'] = new_df['tags'].apply(lambda x: \" \".join(x).lower())\n"
          ]
        },
        {
          "output_type": "stream",
          "name": "stdout",
          "text": [
            "Enter a movie name: Avatar\n",
            "\n",
            "Top 10 recommendations:\n",
            "1. Aliens\n",
            "2. Moonraker\n",
            "3. Alien\n",
            "4. Alien³\n",
            "5. Silent Running\n",
            "6. Spaceballs\n",
            "7. Mission to Mars\n",
            "8. Lifeforce\n",
            "9. Lost in Space\n",
            "10. Planet of the Apes\n"
          ]
        }
      ]
    }
  ]
}